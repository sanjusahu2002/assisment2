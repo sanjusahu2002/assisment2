{
 "cells": [
  {
   "cell_type": "code",
   "execution_count": 2,
   "id": "454cc4d1-ec5d-4c93-b13c-040f63429680",
   "metadata": {},
   "outputs": [
    {
     "data": {
      "text/plain": [
       "' In python we use special character # for comment our code . Mainly we can comment our code by two ways:-\\n1 - for single line comment we use # \\n2 - for multiline comment we use .\\n'"
      ]
     },
     "execution_count": 2,
     "metadata": {},
     "output_type": "execute_result"
    }
   ],
   "source": [
    "# Q1. How do you comment code in Python? What are the different types of comments?\n",
    "''' In python we use special character # for comment our code . Mainly we can comment our code by two ways:-\n",
    "1 - for single line comment we use # \n",
    "2 - for multiline comment we use '''    '''. We can use single or double quotation.\n",
    "Whatever inside in the # and triple quotes , python does not execute it ,it ignores by the python compiler.\n",
    "'''"
   ]
  },
  {
   "cell_type": "code",
   "execution_count": 3,
   "id": "943f26a7-728e-4684-9edf-8235d925f0fc",
   "metadata": {},
   "outputs": [
    {
     "data": {
      "text/plain": [
       "2"
      ]
     },
     "execution_count": 3,
     "metadata": {},
     "output_type": "execute_result"
    }
   ],
   "source": [
    "# Q2. What are variables in Python? How do you declare and assign values to variables?\n",
    "''' Variable in python are user define . We declare variales by just simply give a name.It is easy to assign any value\n",
    "in python example are shown below. Before giving the name of variables keep remember some rules for variable:-  \n",
    "1- variable is not start with special character and number\n",
    "2- variable should be logically\n",
    "'''\n",
    "# assign a value in varible \n",
    "var1 = 2\n",
    "var1"
   ]
  },
  {
   "cell_type": "code",
   "execution_count": 4,
   "id": "1d8715af-5c2a-45f5-bd0c-496c7eecbb80",
   "metadata": {},
   "outputs": [
    {
     "data": {
      "text/plain": [
       "str"
      ]
     },
     "execution_count": 4,
     "metadata": {},
     "output_type": "execute_result"
    }
   ],
   "source": [
    "# Q3. How do you convert one data type to another in Python\n",
    "''' By type casting we can easily convert one data to another data type. Here is the example'''\n",
    "var2 = '2343'   #  here var2 is string\n",
    "type(var2)\n"
   ]
  },
  {
   "cell_type": "code",
   "execution_count": 5,
   "id": "ba343bc5-fb0a-49e2-8e3f-c8ebd955cf61",
   "metadata": {},
   "outputs": [
    {
     "data": {
      "text/plain": [
       "int"
      ]
     },
     "execution_count": 5,
     "metadata": {},
     "output_type": "execute_result"
    }
   ],
   "source": [
    "var3 = int(var2)        # here var2 convert into a int and it stored in var3.\n",
    "type(var3)"
   ]
  },
  {
   "cell_type": "code",
   "execution_count": 1,
   "id": "68874cdf-b91f-4fa3-9867-79bae200dadd",
   "metadata": {},
   "outputs": [
    {
     "data": {
      "text/plain": [
       "[1, 2, 3, 4, 5]"
      ]
     },
     "execution_count": 1,
     "metadata": {},
     "output_type": "execute_result"
    }
   ],
   "source": [
    "# Q5. Given a list my_list = [1, 2, 3, 4, 5], write the code to slice the list and obtain the sub-list [2, 3].\n",
    "my_list  = [ 1,2,3,4,5]\n",
    "my_list[0:6:1]\n"
   ]
  },
  {
   "cell_type": "code",
   "execution_count": 6,
   "id": "7fe6bc89-0b18-4e8e-9c23-8724a1fd3266",
   "metadata": {},
   "outputs": [
    {
     "data": {
      "text/plain": [
       "[2, 3]"
      ]
     },
     "execution_count": 6,
     "metadata": {},
     "output_type": "execute_result"
    }
   ],
   "source": [
    "my_list[1:3] # obtain sub-list [2,3].\n",
    "    \n",
    "    "
   ]
  },
  {
   "cell_type": "code",
   "execution_count": 7,
   "id": "d8523f48-4044-46f5-953b-11b3e29730a8",
   "metadata": {},
   "outputs": [
    {
     "data": {
      "text/plain": [
       "complex"
      ]
     },
     "execution_count": 7,
     "metadata": {},
     "output_type": "execute_result"
    }
   ],
   "source": [
    "# Q6. What is a complex number in mathematics, and how is it represented in Python?\n",
    "\"\"\"Complex number is basically the combination of a real number and an imaginary number. The complex number is\n",
    "in the form of a+ib, where a = real number and ib = imaginary number.\"\"\"\n",
    "# In python we represent complex number by a+ij\n",
    "num1 = 5+3j\n",
    "type(num1)"
   ]
  },
  {
   "cell_type": "code",
   "execution_count": 10,
   "id": "c68a6e69-518c-4ee4-a219-58d4e7a72db6",
   "metadata": {},
   "outputs": [
    {
     "data": {
      "text/plain": [
       "5.0"
      ]
     },
     "execution_count": 10,
     "metadata": {},
     "output_type": "execute_result"
    }
   ],
   "source": [
    "num1.real # for real number"
   ]
  },
  {
   "cell_type": "code",
   "execution_count": 12,
   "id": "6828edb2-8751-4c88-be99-6e1c75fa75d3",
   "metadata": {},
   "outputs": [
    {
     "data": {
      "text/plain": [
       "3.0"
      ]
     },
     "execution_count": 12,
     "metadata": {},
     "output_type": "execute_result"
    }
   ],
   "source": [
    "num1.imag  # for imaginary umber"
   ]
  },
  {
   "cell_type": "code",
   "execution_count": 13,
   "id": "e8cdbf83-b6e6-4e7e-bad0-0ee5a8c30baf",
   "metadata": {},
   "outputs": [
    {
     "ename": "SyntaxError",
     "evalue": "invalid decimal literal (1436334325.py, line 3)",
     "output_type": "error",
     "traceback": [
      "\u001b[0;36m  Cell \u001b[0;32mIn[13], line 3\u001b[0;36m\u001b[0m\n\u001b[0;31m    1age = 25 # here 1age doesn't work.\u001b[0m\n\u001b[0m    ^\u001b[0m\n\u001b[0;31mSyntaxError\u001b[0m\u001b[0;31m:\u001b[0m invalid decimal literal\n"
     ]
    }
   ],
   "source": [
    "# Q7. What is the correct way to declare a variable named age and assign the value 25 to it?\n",
    "# Variable should not be start with numbers and special character.Theere are so many ways to declare which are shown below:-\n",
    "1age = 25 # here 1age doesn't work.\n",
    "print(1age)"
   ]
  },
  {
   "cell_type": "code",
   "execution_count": 14,
   "id": "fa13da51-5b55-49e3-8fd0-af935fd5d4cb",
   "metadata": {},
   "outputs": [
    {
     "data": {
      "text/plain": [
       "25"
      ]
     },
     "execution_count": 14,
     "metadata": {},
     "output_type": "execute_result"
    }
   ],
   "source": [
    "age_1 = 25 # Here it works because we can use numbers after characters.\n",
    "age_1"
   ]
  },
  {
   "cell_type": "code",
   "execution_count": 15,
   "id": "a65b9a8b-41ac-4662-874c-39f2c383bd3e",
   "metadata": {},
   "outputs": [
    {
     "ename": "SyntaxError",
     "evalue": "invalid syntax (4246118233.py, line 1)",
     "output_type": "error",
     "traceback": [
      "\u001b[0;36m  Cell \u001b[0;32mIn[15], line 1\u001b[0;36m\u001b[0m\n\u001b[0;31m    age@ = 25\u001b[0m\n\u001b[0m         ^\u001b[0m\n\u001b[0;31mSyntaxError\u001b[0m\u001b[0;31m:\u001b[0m invalid syntax\n"
     ]
    }
   ],
   "source": [
    "age@ = 25 # Here code doesn't work becuase special character doesn't allow.\n",
    "age@"
   ]
  },
  {
   "cell_type": "code",
   "execution_count": 16,
   "id": "b5d95771-442c-47c4-80e3-215465c56d87",
   "metadata": {},
   "outputs": [
    {
     "data": {
      "text/plain": [
       "float"
      ]
     },
     "execution_count": 16,
     "metadata": {},
     "output_type": "execute_result"
    }
   ],
   "source": [
    "# Q8. Declare a variable named price and assign the value 9.99 to it. What data type does this variable \n",
    "# belong to ?\n",
    "price = 9.99\n",
    "type(price)"
   ]
  },
  {
   "cell_type": "code",
   "execution_count": 17,
   "id": "f5a149a9-5c5c-4ee9-bfd3-9b378521162a",
   "metadata": {},
   "outputs": [
    {
     "name": "stdout",
     "output_type": "stream",
     "text": [
      "sanju sahu\n"
     ]
    }
   ],
   "source": [
    "# Q9. Create a variable named name and assign your full name to it as a string. How would you print the \n",
    "# value of this variable ?\n",
    "name = \"sanju sahu\"\n",
    "print(name)"
   ]
  },
  {
   "cell_type": "code",
   "execution_count": 18,
   "id": "b777adc2-1876-4217-877f-34922c8e04e4",
   "metadata": {},
   "outputs": [
    {
     "name": "stdout",
     "output_type": "stream",
     "text": [
      "s\n",
      "a\n",
      "n\n",
      "j\n",
      "u\n",
      " \n",
      "s\n",
      "a\n",
      "h\n",
      "u\n"
     ]
    }
   ],
   "source": [
    "for i in name:\n",
    "    print(i)"
   ]
  },
  {
   "cell_type": "code",
   "execution_count": 20,
   "id": "ccb28d94-6cdd-48aa-8895-50611b4bd051",
   "metadata": {},
   "outputs": [
    {
     "data": {
      "text/plain": [
       "'World'"
      ]
     },
     "execution_count": 20,
     "metadata": {},
     "output_type": "execute_result"
    }
   ],
   "source": [
    "# Q10. Given the string \"Hello, World!\", extract the substring \"World\"?\n",
    "hello = \"Hello, World\"\n",
    "hello[7::]   # by slincing method "
   ]
  },
  {
   "cell_type": "code",
   "execution_count": 22,
   "id": "e0056011-d806-45c1-bdb4-dd1ee854ccd8",
   "metadata": {},
   "outputs": [
    {
     "data": {
      "text/plain": [
       "bool"
      ]
     },
     "execution_count": 22,
     "metadata": {},
     "output_type": "execute_result"
    }
   ],
   "source": [
    "# Q11. Create a variable named \"is_student\" and assign it a boolean value indicating whether you are \n",
    "# currently a student or not?\n",
    "is_student =True\n",
    "type(is_student)"
   ]
  },
  {
   "cell_type": "code",
   "execution_count": null,
   "id": "e3565f90-7e6f-45f2-8838-19c1ac2a5305",
   "metadata": {},
   "outputs": [],
   "source": [
    "# Q4. How do you write and execute a Python script from the command line?\n",
    "# First ensure that our terminal supports python or not if it supports that write a code.\n",
    "# we need command prompt to run our code . For this find the location where our desired python file is stored and then\n",
    "# in command prompt type the location and run python file."
   ]
  }
 ],
 "metadata": {
  "kernelspec": {
   "display_name": "Python 3 (ipykernel)",
   "language": "python",
   "name": "python3"
  },
  "language_info": {
   "codemirror_mode": {
    "name": "ipython",
    "version": 3
   },
   "file_extension": ".py",
   "mimetype": "text/x-python",
   "name": "python",
   "nbconvert_exporter": "python",
   "pygments_lexer": "ipython3",
   "version": "3.10.8"
  }
 },
 "nbformat": 4,
 "nbformat_minor": 5
}
